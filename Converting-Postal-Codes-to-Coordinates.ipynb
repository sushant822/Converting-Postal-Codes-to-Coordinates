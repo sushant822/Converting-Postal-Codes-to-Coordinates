{
 "cells": [
  {
   "cell_type": "code",
   "execution_count": 1,
   "metadata": {},
   "outputs": [
    {
     "name": "stdout",
     "output_type": "stream",
     "text": [
      "Libraries imported!\n"
     ]
    }
   ],
   "source": [
    "import pandas as pd\n",
    "import numpy as np\n",
    "import requests\n",
    "from bs4 import BeautifulSoup\n",
    "import time\n",
    "from splinter import Browser\n",
    "import warnings\n",
    "import pgeocode\n",
    "warnings.filterwarnings('ignore')\n",
    "print('Libraries imported!')"
   ]
  },
  {
   "cell_type": "markdown",
   "metadata": {},
   "source": [
    "-----------"
   ]
  },
  {
   "cell_type": "markdown",
   "metadata": {},
   "source": [
    "# Using pgeocode library"
   ]
  },
  {
   "cell_type": "code",
   "execution_count": 2,
   "metadata": {},
   "outputs": [],
   "source": [
    "csvData = pd.read_csv('data/score_df.csv')\n",
    "csvDataPC = csvData['postal_code']"
   ]
  },
  {
   "cell_type": "code",
   "execution_count": 3,
   "metadata": {},
   "outputs": [],
   "source": [
    "coordinates = []\n",
    "postalCodes = []\n",
    "for i in csvDataPC:\n",
    "    country_code = pgeocode.Nominatim('ca')\n",
    "    coord = country_code.query_postal_code(str(i))\n",
    "    x = [coord.latitude, coord.longitude]\n",
    "    coordinates.append(x)\n",
    "    postalCodes.append(i)"
   ]
  },
  {
   "cell_type": "code",
   "execution_count": 4,
   "metadata": {},
   "outputs": [
    {
     "data": {
      "text/html": [
       "<div>\n",
       "<style scoped>\n",
       "    .dataframe tbody tr th:only-of-type {\n",
       "        vertical-align: middle;\n",
       "    }\n",
       "\n",
       "    .dataframe tbody tr th {\n",
       "        vertical-align: top;\n",
       "    }\n",
       "\n",
       "    .dataframe thead th {\n",
       "        text-align: right;\n",
       "    }\n",
       "</style>\n",
       "<table border=\"1\" class=\"dataframe\">\n",
       "  <thead>\n",
       "    <tr style=\"text-align: right;\">\n",
       "      <th></th>\n",
       "      <th>postal_codes</th>\n",
       "      <th>lat</th>\n",
       "      <th>long</th>\n",
       "    </tr>\n",
       "  </thead>\n",
       "  <tbody>\n",
       "    <tr>\n",
       "      <th>0</th>\n",
       "      <td>T2V 1M4</td>\n",
       "      <td>50.9819</td>\n",
       "      <td>-114.1004</td>\n",
       "    </tr>\n",
       "    <tr>\n",
       "      <th>1</th>\n",
       "      <td>T2V 2G9</td>\n",
       "      <td>50.9819</td>\n",
       "      <td>-114.1004</td>\n",
       "    </tr>\n",
       "    <tr>\n",
       "      <th>2</th>\n",
       "      <td>T2T 4L7</td>\n",
       "      <td>51.0242</td>\n",
       "      <td>-114.1004</td>\n",
       "    </tr>\n",
       "    <tr>\n",
       "      <th>3</th>\n",
       "      <td>T2G 1M1</td>\n",
       "      <td>51.0272</td>\n",
       "      <td>-114.0349</td>\n",
       "    </tr>\n",
       "    <tr>\n",
       "      <th>4</th>\n",
       "      <td>T3H 5Y7</td>\n",
       "      <td>51.0419</td>\n",
       "      <td>-114.2000</td>\n",
       "    </tr>\n",
       "  </tbody>\n",
       "</table>\n",
       "</div>"
      ],
      "text/plain": [
       "  postal_codes      lat      long\n",
       "0      T2V 1M4  50.9819 -114.1004\n",
       "1      T2V 2G9  50.9819 -114.1004\n",
       "2      T2T 4L7  51.0242 -114.1004\n",
       "3      T2G 1M1  51.0272 -114.0349\n",
       "4      T3H 5Y7  51.0419 -114.2000"
      ]
     },
     "execution_count": 4,
     "metadata": {},
     "output_type": "execute_result"
    }
   ],
   "source": [
    "coordinatesDF = pd.DataFrame(coordinates, postalCodes)\n",
    "coordinatesDF.reset_index(inplace=True)\n",
    "coordinatesDF.columns=['postal_codes', 'lat', 'long']\n",
    "coordinatesDF.head()"
   ]
  },
  {
   "cell_type": "code",
   "execution_count": 5,
   "metadata": {},
   "outputs": [],
   "source": [
    "coordinatesDF.to_csv('data/CalgaryCoordinatesDF.csv', index=False)"
   ]
  },
  {
   "cell_type": "markdown",
   "metadata": {},
   "source": [
    "----------------"
   ]
  },
  {
   "cell_type": "markdown",
   "metadata": {},
   "source": [
    "# Using Geocoder website"
   ]
  },
  {
   "cell_type": "code",
   "execution_count": null,
   "metadata": {},
   "outputs": [],
   "source": [
    "url = 'https://geocoder.ca/?locate='\n",
    "postalCode = 'T2L+0C9'\n",
    "page = requests.get(url+postalCode)\n",
    "soup = BeautifulSoup(page.text, \"html.parser\")\n",
    "#print(soup.prettify())"
   ]
  },
  {
   "cell_type": "code",
   "execution_count": null,
   "metadata": {},
   "outputs": [],
   "source": [
    "tables = pd.read_html(url+postalCode)\n",
    "table_df = tables[1]\n",
    "table_df.head()"
   ]
  },
  {
   "cell_type": "code",
   "execution_count": null,
   "metadata": {},
   "outputs": [],
   "source": [
    "title = soup.find('li', class_='pull-right').get_text()\n",
    "print(title)"
   ]
  },
  {
   "cell_type": "code",
   "execution_count": null,
   "metadata": {},
   "outputs": [],
   "source": [
    "csvData = pd.read_csv('data/score_df.csv')\n",
    "csvData.head()"
   ]
  },
  {
   "cell_type": "code",
   "execution_count": null,
   "metadata": {},
   "outputs": [],
   "source": [
    "csvDataPC = csvData['postal_code']\n",
    "testCSV = csvDataPC.head(20)"
   ]
  },
  {
   "cell_type": "markdown",
   "metadata": {},
   "source": [
    "csvDataPC = csvDataPC.str.replace(' ', '+')\n",
    "testCSV = csvDataPC.head(20)"
   ]
  },
  {
   "cell_type": "code",
   "execution_count": null,
   "metadata": {},
   "outputs": [],
   "source": [
    "coordinates = []\n",
    "postalCodes = []\n",
    "for i in csvDataPC:\n",
    "    url = 'https://geocoder.ca/?locate='\n",
    "    page = requests.get(url+str(i))\n",
    "    time.sleep(2)\n",
    "    soup = BeautifulSoup(page.text, \"html.parser\")\n",
    "    try:\n",
    "        title = soup.find('li', class_='pull-right').get_text()\n",
    "    except:\n",
    "        title = 'None'\n",
    "    coordinates.append(title)\n",
    "    #postalCodesP = i.str.replace('+', ' ')\n",
    "    postalCodes.append(i)"
   ]
  },
  {
   "cell_type": "code",
   "execution_count": null,
   "metadata": {},
   "outputs": [],
   "source": [
    "coordinatesDF = pd.DataFrame(coordinates, postalCodes)\n",
    "coordinatesDF.reset_index(inplace=True)"
   ]
  },
  {
   "cell_type": "code",
   "execution_count": null,
   "metadata": {},
   "outputs": [],
   "source": [
    "coordinatesDF.columns=['postal_codes', 'coordinates']\n",
    "coordinatesDF.head()"
   ]
  },
  {
   "cell_type": "code",
   "execution_count": null,
   "metadata": {},
   "outputs": [],
   "source": [
    "coordinatesDF.to_csv('data/coordinatesDF.csv', index=False)"
   ]
  },
  {
   "cell_type": "code",
   "execution_count": null,
   "metadata": {},
   "outputs": [],
   "source": []
  }
 ],
 "metadata": {
  "kernelspec": {
   "display_name": "Python 3",
   "language": "python",
   "name": "python3"
  },
  "language_info": {
   "codemirror_mode": {
    "name": "ipython",
    "version": 3
   },
   "file_extension": ".py",
   "mimetype": "text/x-python",
   "name": "python",
   "nbconvert_exporter": "python",
   "pygments_lexer": "ipython3",
   "version": "3.7.3"
  }
 },
 "nbformat": 4,
 "nbformat_minor": 2
}
