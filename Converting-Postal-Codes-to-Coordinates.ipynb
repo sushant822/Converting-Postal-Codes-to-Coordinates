{
 "cells": [
  {
   "cell_type": "code",
   "execution_count": 1,
   "metadata": {},
   "outputs": [
    {
     "name": "stdout",
     "output_type": "stream",
     "text": [
      "Libraries imported!\n"
     ]
    }
   ],
   "source": [
    "import pandas as pd\n",
    "import numpy as np\n",
    "import requests\n",
    "from bs4 import BeautifulSoup\n",
    "import time\n",
    "from splinter import Browser\n",
    "import warnings\n",
    "import pgeocode\n",
    "warnings.filterwarnings('ignore')\n",
    "print('Libraries imported!')"
   ]
  },
  {
   "cell_type": "markdown",
   "metadata": {},
   "source": [
    "-----------"
   ]
  },
  {
   "cell_type": "markdown",
   "metadata": {},
   "source": [
    "# Using pgeocode library"
   ]
  },
  {
   "cell_type": "code",
   "execution_count": 2,
   "metadata": {},
   "outputs": [],
   "source": [
    "csvData = pd.read_csv('data/score_df.csv')\n",
    "csvDataPC = csvData['postal_code']"
   ]
  },
  {
   "cell_type": "code",
   "execution_count": 3,
   "metadata": {},
   "outputs": [],
   "source": [
    "coordinates = []\n",
    "postalCodes = []\n",
    "for i in csvDataPC:\n",
    "    country_code = pgeocode.Nominatim('ca')\n",
    "    coord = country_code.query_postal_code(str(i))\n",
    "    x = [coord.latitude, coord.longitude]\n",
    "    coordinates.append(x)\n",
    "    postalCodes.append(str(i))"
   ]
  },
  {
   "cell_type": "code",
   "execution_count": 4,
   "metadata": {},
   "outputs": [
    {
     "data": {
      "text/html": [
       "<div>\n",
       "<style scoped>\n",
       "    .dataframe tbody tr th:only-of-type {\n",
       "        vertical-align: middle;\n",
       "    }\n",
       "\n",
       "    .dataframe tbody tr th {\n",
       "        vertical-align: top;\n",
       "    }\n",
       "\n",
       "    .dataframe thead th {\n",
       "        text-align: right;\n",
       "    }\n",
       "</style>\n",
       "<table border=\"1\" class=\"dataframe\">\n",
       "  <thead>\n",
       "    <tr style=\"text-align: right;\">\n",
       "      <th></th>\n",
       "      <th>postal_codes</th>\n",
       "      <th>lat</th>\n",
       "      <th>long</th>\n",
       "    </tr>\n",
       "  </thead>\n",
       "  <tbody>\n",
       "    <tr>\n",
       "      <th>0</th>\n",
       "      <td>T2V 1M4</td>\n",
       "      <td>50.9819</td>\n",
       "      <td>-114.1004</td>\n",
       "    </tr>\n",
       "    <tr>\n",
       "      <th>1</th>\n",
       "      <td>T2V 2G9</td>\n",
       "      <td>50.9819</td>\n",
       "      <td>-114.1004</td>\n",
       "    </tr>\n",
       "    <tr>\n",
       "      <th>2</th>\n",
       "      <td>T2T 4L7</td>\n",
       "      <td>51.0242</td>\n",
       "      <td>-114.1004</td>\n",
       "    </tr>\n",
       "    <tr>\n",
       "      <th>3</th>\n",
       "      <td>T2G 1M1</td>\n",
       "      <td>51.0272</td>\n",
       "      <td>-114.0349</td>\n",
       "    </tr>\n",
       "    <tr>\n",
       "      <th>4</th>\n",
       "      <td>T3H 5Y7</td>\n",
       "      <td>51.0419</td>\n",
       "      <td>-114.2000</td>\n",
       "    </tr>\n",
       "  </tbody>\n",
       "</table>\n",
       "</div>"
      ],
      "text/plain": [
       "  postal_codes      lat      long\n",
       "0      T2V 1M4  50.9819 -114.1004\n",
       "1      T2V 2G9  50.9819 -114.1004\n",
       "2      T2T 4L7  51.0242 -114.1004\n",
       "3      T2G 1M1  51.0272 -114.0349\n",
       "4      T3H 5Y7  51.0419 -114.2000"
      ]
     },
     "execution_count": 4,
     "metadata": {},
     "output_type": "execute_result"
    }
   ],
   "source": [
    "coordinatesDF = pd.DataFrame(coordinates, postalCodes)\n",
    "coordinatesDF.reset_index(inplace=True)\n",
    "coordinatesDF.columns=['postal_codes', 'lat', 'long']\n",
    "coordinatesDF.head()"
   ]
  },
  {
   "cell_type": "code",
   "execution_count": 5,
   "metadata": {},
   "outputs": [],
   "source": [
    "coordinatesDF.to_csv('data/CalgaryCoordinatesDF.csv', index=False)"
   ]
  },
  {
   "cell_type": "markdown",
   "metadata": {},
   "source": [
    "----------------"
   ]
  },
  {
   "cell_type": "markdown",
   "metadata": {},
   "source": [
    "# Using Geocoder website"
   ]
  },
  {
   "cell_type": "code",
   "execution_count": 2,
   "metadata": {},
   "outputs": [],
   "source": [
    "url = 'https://geocoder.ca/?locate='\n",
    "postalCode = 'T2L+0C9'\n",
    "page = requests.get(url+postalCode)\n",
    "soup = BeautifulSoup(page.text, \"html.parser\")\n",
    "#print(soup.prettify())"
   ]
  },
  {
   "cell_type": "code",
   "execution_count": 3,
   "metadata": {},
   "outputs": [
    {
     "data": {
      "text/html": [
       "<div>\n",
       "<style scoped>\n",
       "    .dataframe tbody tr th:only-of-type {\n",
       "        vertical-align: middle;\n",
       "    }\n",
       "\n",
       "    .dataframe tbody tr th {\n",
       "        vertical-align: top;\n",
       "    }\n",
       "\n",
       "    .dataframe thead th {\n",
       "        text-align: right;\n",
       "    }\n",
       "</style>\n",
       "<table border=\"1\" class=\"dataframe\">\n",
       "  <thead>\n",
       "    <tr style=\"text-align: right;\">\n",
       "      <th></th>\n",
       "      <th>0</th>\n",
       "      <th>1</th>\n",
       "    </tr>\n",
       "  </thead>\n",
       "  <tbody>\n",
       "    <tr>\n",
       "      <th>0</th>\n",
       "      <td>Dissemination Area Data for T2L0C9 | Demograph...</td>\n",
       "      <td>51.091844, -114.126368 Neighborhood of Charles...</td>\n",
       "    </tr>\n",
       "  </tbody>\n",
       "</table>\n",
       "</div>"
      ],
      "text/plain": [
       "                                                   0  \\\n",
       "0  Dissemination Area Data for T2L0C9 | Demograph...   \n",
       "\n",
       "                                                   1  \n",
       "0  51.091844, -114.126368 Neighborhood of Charles...  "
      ]
     },
     "execution_count": 3,
     "metadata": {},
     "output_type": "execute_result"
    }
   ],
   "source": [
    "tables = pd.read_html(url+postalCode)\n",
    "table_df = tables[1]\n",
    "table_df.head()"
   ]
  },
  {
   "cell_type": "code",
   "execution_count": 4,
   "metadata": {},
   "outputs": [
    {
     "name": "stdout",
     "output_type": "stream",
     "text": [
      " 51.091844,-114.126368\n"
     ]
    }
   ],
   "source": [
    "title = soup.find('li', class_='pull-right').get_text()\n",
    "print(title)"
   ]
  },
  {
   "cell_type": "code",
   "execution_count": 21,
   "metadata": {},
   "outputs": [
    {
     "data": {
      "text/html": [
       "<div>\n",
       "<style scoped>\n",
       "    .dataframe tbody tr th:only-of-type {\n",
       "        vertical-align: middle;\n",
       "    }\n",
       "\n",
       "    .dataframe tbody tr th {\n",
       "        vertical-align: top;\n",
       "    }\n",
       "\n",
       "    .dataframe thead th {\n",
       "        text-align: right;\n",
       "    }\n",
       "</style>\n",
       "<table border=\"1\" class=\"dataframe\">\n",
       "  <thead>\n",
       "    <tr style=\"text-align: right;\">\n",
       "      <th></th>\n",
       "      <th>postal_code</th>\n",
       "      <th>walk_score</th>\n",
       "      <th>bike_score</th>\n",
       "      <th>transit_score</th>\n",
       "    </tr>\n",
       "  </thead>\n",
       "  <tbody>\n",
       "    <tr>\n",
       "      <th>0</th>\n",
       "      <td>T2V 1M4</td>\n",
       "      <td>58.0</td>\n",
       "      <td>61.0</td>\n",
       "      <td>55.0</td>\n",
       "    </tr>\n",
       "    <tr>\n",
       "      <th>1</th>\n",
       "      <td>T2V 2G9</td>\n",
       "      <td>57.0</td>\n",
       "      <td>75.0</td>\n",
       "      <td>57.0</td>\n",
       "    </tr>\n",
       "    <tr>\n",
       "      <th>2</th>\n",
       "      <td>T2T 4L7</td>\n",
       "      <td>38.0</td>\n",
       "      <td>82.0</td>\n",
       "      <td>38.0</td>\n",
       "    </tr>\n",
       "    <tr>\n",
       "      <th>3</th>\n",
       "      <td>T2G 1M1</td>\n",
       "      <td>64.0</td>\n",
       "      <td>78.0</td>\n",
       "      <td>49.0</td>\n",
       "    </tr>\n",
       "    <tr>\n",
       "      <th>4</th>\n",
       "      <td>T3H 5Y7</td>\n",
       "      <td>65.0</td>\n",
       "      <td>89.0</td>\n",
       "      <td>40.0</td>\n",
       "    </tr>\n",
       "  </tbody>\n",
       "</table>\n",
       "</div>"
      ],
      "text/plain": [
       "  postal_code  walk_score  bike_score  transit_score\n",
       "0     T2V 1M4        58.0        61.0           55.0\n",
       "1     T2V 2G9        57.0        75.0           57.0\n",
       "2     T2T 4L7        38.0        82.0           38.0\n",
       "3     T2G 1M1        64.0        78.0           49.0\n",
       "4     T3H 5Y7        65.0        89.0           40.0"
      ]
     },
     "execution_count": 21,
     "metadata": {},
     "output_type": "execute_result"
    }
   ],
   "source": [
    "csvData = pd.read_csv('data/score_df.csv')\n",
    "csvData.head()"
   ]
  },
  {
   "cell_type": "code",
   "execution_count": 23,
   "metadata": {},
   "outputs": [],
   "source": [
    "csvDataPC = csvData['postal_code']\n",
    "testCSV = csvDataPC.head(20)"
   ]
  },
  {
   "cell_type": "markdown",
   "metadata": {},
   "source": [
    "csvDataPC = csvDataPC.str.replace(' ', '+')\n",
    "testCSV = csvDataPC.head(20)"
   ]
  },
  {
   "cell_type": "code",
   "execution_count": 27,
   "metadata": {},
   "outputs": [],
   "source": [
    "coordinates = []\n",
    "postalCodes = []\n",
    "for i in csvDataPC:\n",
    "    url = 'https://geocoder.ca/?locate='\n",
    "    page = requests.get(url+str(i))\n",
    "    time.sleep(2)\n",
    "    soup = BeautifulSoup(page.text, \"html.parser\")\n",
    "    try:\n",
    "        title = soup.find('li', class_='pull-right').get_text()\n",
    "    except:\n",
    "        title = 'None'\n",
    "    coordinates.append(title)\n",
    "    #postalCodesP = i.str.replace('+', ' ')\n",
    "    postalCodes.append(i)"
   ]
  },
  {
   "cell_type": "code",
   "execution_count": 28,
   "metadata": {},
   "outputs": [],
   "source": [
    "coordinatesDF = pd.DataFrame(coordinates, postalCodes)\n",
    "coordinatesDF.reset_index(inplace=True)"
   ]
  },
  {
   "cell_type": "code",
   "execution_count": 29,
   "metadata": {},
   "outputs": [
    {
     "data": {
      "text/html": [
       "<div>\n",
       "<style scoped>\n",
       "    .dataframe tbody tr th:only-of-type {\n",
       "        vertical-align: middle;\n",
       "    }\n",
       "\n",
       "    .dataframe tbody tr th {\n",
       "        vertical-align: top;\n",
       "    }\n",
       "\n",
       "    .dataframe thead th {\n",
       "        text-align: right;\n",
       "    }\n",
       "</style>\n",
       "<table border=\"1\" class=\"dataframe\">\n",
       "  <thead>\n",
       "    <tr style=\"text-align: right;\">\n",
       "      <th></th>\n",
       "      <th>postal_codes</th>\n",
       "      <th>coordinates</th>\n",
       "    </tr>\n",
       "  </thead>\n",
       "  <tbody>\n",
       "    <tr>\n",
       "      <th>0</th>\n",
       "      <td>T2V 1M4</td>\n",
       "      <td>50.967013,-114.084990</td>\n",
       "    </tr>\n",
       "    <tr>\n",
       "      <th>1</th>\n",
       "      <td>T2V 2G9</td>\n",
       "      <td>50.989524,-114.074253</td>\n",
       "    </tr>\n",
       "    <tr>\n",
       "      <th>2</th>\n",
       "      <td>T2T 4L7</td>\n",
       "      <td>51.013395,-114.101767</td>\n",
       "    </tr>\n",
       "    <tr>\n",
       "      <th>3</th>\n",
       "      <td>T2G 1M1</td>\n",
       "      <td>51.036103,-114.038056</td>\n",
       "    </tr>\n",
       "    <tr>\n",
       "      <th>4</th>\n",
       "      <td>T3H 5Y7</td>\n",
       "      <td>51.044200,-114.216072</td>\n",
       "    </tr>\n",
       "  </tbody>\n",
       "</table>\n",
       "</div>"
      ],
      "text/plain": [
       "  postal_codes             coordinates\n",
       "0      T2V 1M4   50.967013,-114.084990\n",
       "1      T2V 2G9   50.989524,-114.074253\n",
       "2      T2T 4L7   51.013395,-114.101767\n",
       "3      T2G 1M1   51.036103,-114.038056\n",
       "4      T3H 5Y7   51.044200,-114.216072"
      ]
     },
     "execution_count": 29,
     "metadata": {},
     "output_type": "execute_result"
    }
   ],
   "source": [
    "coordinatesDF.columns=['postal_codes', 'coordinates']\n",
    "coordinatesDF.head()"
   ]
  },
  {
   "cell_type": "code",
   "execution_count": 30,
   "metadata": {},
   "outputs": [],
   "source": [
    "coordinatesDF.to_csv('data/coordinatesDF.csv', index=False)"
   ]
  },
  {
   "cell_type": "code",
   "execution_count": null,
   "metadata": {},
   "outputs": [],
   "source": []
  }
 ],
 "metadata": {
  "kernelspec": {
   "display_name": "Python 3",
   "language": "python",
   "name": "python3"
  },
  "language_info": {
   "codemirror_mode": {
    "name": "ipython",
    "version": 3
   },
   "file_extension": ".py",
   "mimetype": "text/x-python",
   "name": "python",
   "nbconvert_exporter": "python",
   "pygments_lexer": "ipython3",
   "version": "3.7.3"
  }
 },
 "nbformat": 4,
 "nbformat_minor": 2
}
